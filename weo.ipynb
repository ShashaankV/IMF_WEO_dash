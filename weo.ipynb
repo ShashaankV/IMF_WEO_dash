{
  "nbformat": 4,
  "nbformat_minor": 0,
  "metadata": {
    "colab": {
      "name": "weo.ipynb",
      "provenance": [],
      "collapsed_sections": [
        "CiB_5QPxGJKO",
        "Or9g-2rUGFYL",
        "_dKztgX1GBvA"
      ]
    },
    "kernelspec": {
      "name": "python382jvsc74a57bd031f2aee4e71d21fbe5cf8b01ff0e069b9275f58929596ceb00d14d90e3e16cd6",
      "display_name": "Python 3.8.2 64-bit"
    },
    "language_info": {
      "name": "python",
      "version": "3.8.2"
    },
    "metadata": {
      "interpreter": {
        "hash": "31f2aee4e71d21fbe5cf8b01ff0e069b9275f58929596ceb00d14d90e3e16cd6"
      }
    }
  },
  "cells": [
    {
      "source": [
        "\n",
        "# IMF_WEO_dash\n",
        "Outlier interactive plot for IMF WEO hackathon\n",
        "\n",
        "Example using Plotly's Dash library for making a simple but IMHO very useful dashboard. Purpose is to plot actual vs predicted values. General use to assess any type of forecast (predictive) model. Particularly useful for IMF-WEO (see below) where the model is a complex human-guided algorithm. Outliers are defined as x sigma from robust linear regression line. (Future work - clean up code, annotations, replace * with np, etc., and outlier specifications.)\n",
        "\n",
        "#Outlier (goodness of fit) dashboard\n",
        "\n",
        "Display predicted vs actual index. Purpose: interactive visualization to easily identify bad predictions that can be used by user to improve model.\n",
        "\n",
        "## Motivation \n",
        "\n",
        "IMF WEO Hackathon Generated for the International Monetary Fund 2018 data visualization 2 hour hackathon. The goal was to make an insightful product for the World Economic Outlook report (WEO) (more below). Notably forecasts made by IMF go through a complex process between country teams and aggregated adjustments. We focused on a tool that assessed the country-level and aggregate predictions. The product was the design of Michelle C Mandolia, Benjamin P Cohn, and Shashaank Vattikuti.\n",
        "\n",
        "Our guideline:\n",
        "\n",
        "Choose one (or few) useful metrics - something that is easy to visualize and gives insight\n",
        "use an open-source type programmatic platform with large buy-in and support - we chose Plotly's Dash, no reason to limit clients by unnecessary license fees\n",
        "Chloropleth - the visualization we avoided\n",
        "\n",
        "No chloropleths - We were setup for this and pretty much all teams chose these. It is an obvious choice for data with geographic features. However, there was no strong reason to expect geographic continuity at this resolution (unlike a pandemic model, see our covid project).\n",
        "A different network structure may be useful such as group countries by known shared economic ties (or some cluster analysis). This was not clear at the outset.\n",
        "\n",
        "Why goodness-of-fit?\n",
        "\n",
        "extremely simple but powerful tool - plot actual vs predicted index\n",
        "the visualization gives a quick view of how the model does overall and where (what countries) did it fail on\n",
        "it is agnostic to the model details; can be used for any kind of quantitative models, modeling\n",
        "interactive tool - hover (lasso-tool, click, etc.) on single or sets of points to get more info on them, adjust data filters to see patterns (like time from report to actual to see how prediction quality changes with time-out), scan data fitlers to see robustness (example, does outlier country stay as outlier across time-outs, maybe this gives more reason for further investigation)\n",
        "Main features:\n",
        "\n",
        "Aggregate metrics - intercept and slope of linear regression model\n",
        "Outlier country estimates - used a robust regression (reduces outlier effects), then tag outliers based on chi-squared analysis of country residual from robust regression line\n",
        "\n",
        "## About world economic outlook (WEO) \n",
        "### What is the International Monetary Fund?\n",
        "\n",
        "(from Wiki: https://en.wikipedia.org/wiki/International_Monetary_Fund)\n",
        "\n",
        "\"Formed in 1944 ,started in 27 November 1945,7 at the Bretton Woods Conference primarily by the ideas of Harry Dexter White and John Maynard Keynes,8 it came into formal existence in 1945 with 29 member countries and the goal of reconstructing the international monetary system. It now plays a central role in the management of balance of payments difficulties and international financial crises.9 Countries contribute funds to a pool through a quota system from which countries experiencing balance of payments problems can borrow money. As of 2016, the fund had XDR 477 billion (about US$667 billion).10. ... consisting of 190 countries working to foster global monetary cooperation, secure financial stability, facilitate international trade, promote high employment and sustainable economic growth, and reduce poverty around the world while periodically depending on the World Bank for its resources.1\"\n",
        "\n",
        "### Forecasts IMF-WEO about forecasts( analyses of global economic developments during the near and medium term.)\n",
        "\n",
        "Data is sourced from the the World Economic Outlook (WEO) database. (Data is in ./data/ from the hackathon, using publicly available data from IMF. Data is dated from 2018 competition year. Updated data needs to be reformatted for use, pending clarification from IMF.) \n",
        "\n",
        "This \"is created during the biannual WEO (IMF) exercise, which begins in January and June of each year and results in the April and September/October WEO publication. A Survey by the IMF staff usually published twice a year. It presents IMF staff economists' analyses of global economic developments during the near and medium term.\"\n",
        "(I forget if near and medium term were defined. One objective of our tool was to make this modifiable by 6 month periods (i.e. 6, 12, 18, ... months out).\n",
        "\n",
        "\"The IMF’s World Economic Outlook uses a “bottom-up” approach in producing its forecasts; that is, country teams within the IMF generate projections for individual countries. These are then aggregated, and through a series of iterations where the aggregates feed back into individual countries’ forecasts, forecasts converge to the projections reported in the WEO.\n",
        "\n",
        "Because forecasts are made by the individual country teams, the methodology can vary from country to country and series to series depending on many factors.\"\n"
      ],
      "cell_type": "markdown",
      "metadata": {
        "id": "diacT3AYGa0Q"
      }
    },
    {
      "cell_type": "markdown",
      "metadata": {
        "id": "MBoiJs5cGVkL"
      },
      "source": [
        "#Compile Code"
      ]
    },
    {
      "cell_type": "markdown",
      "metadata": {
        "id": "CiB_5QPxGJKO"
      },
      "source": [
        "##Preliminary"
      ]
    },
    {
      "cell_type": "code",
      "metadata": {
        "id": "tieZRT7m2rA9"
      },
      "source": [
        "import dash,time\n",
        "import dash_core_components as dcc\n",
        "import dash_html_components as html\n",
        "from dash.dependencies import Input, Output, State\n",
        "\n",
        "from jupyter_dash import JupyterDash\n",
        "\n",
        "import pickle\n",
        "from textwrap import wrap\n",
        "import plotly.graph_objs as go\n",
        "from numpy import *\n",
        "from numpy.linalg import *\n",
        "from sklearn.linear_model import TheilSenRegressor as TSR\n",
        "from scipy.stats import *\n",
        "import pandas as pd\n"
      ],
      "execution_count": 1,
      "outputs": []
    },
    {
      "cell_type": "markdown",
      "metadata": {
        "id": "Or9g-2rUGFYL"
      },
      "source": [
        "##Load data"
      ]
    },
    {
      "cell_type": "code",
      "metadata": {
        "id": "_MjBI0Dk49Jq"
      },
      "source": [
        "path = './data/'\n",
        "df=pd.read_table(f'{path}WEOhack.tab', sep='\\t', encoding=\"cp1252\")\n",
        "df = df.loc[~df.country.isin(['Advanced Economies','Emerging Market and Developing Economies','World'])]"
      ],
      "execution_count": 2,
      "outputs": []
    },
    {
      "cell_type": "markdown",
      "metadata": {
        "id": "_dKztgX1GBvA"
      },
      "source": [
        "##Main App"
      ]
    },
    {
      "cell_type": "code",
      "metadata": {
        "id": "1YA7z4lS5M_W"
      },
      "source": [
        "#make dash selection lists\n",
        "#country list\n",
        "#map IFS code to country name\n",
        "\n",
        "df_country = pd.DataFrame(columns=['label','value'])\n",
        "for cid in set(df['ifscode']): #iterate through country IMF ID\n",
        "  x = {'label':df.loc[df['ifscode']==cid]['country'].values[0],'value':cid}\n",
        "  df_country = df_country.append(x,ignore_index=True)\n",
        "\n",
        "df_country.sort_values('label',inplace=True) #use this for alphabetically sorted country list\n",
        "\n",
        "c_dash=[]\n",
        "for index, row in df_country.iterrows():\n",
        "    c=list(df.loc[df['ifscode']==cid]['country'])[0]\n",
        "    c_dash.append({'label':row['label'],'value':row['value']})\n",
        "\n",
        "#actual year list\n",
        "yr_=arange(2007,2018).astype(str)\n",
        "yr_dash=[]\n",
        "for yr in yr_:\n",
        "    yr_dash.append({'label':yr,'value':float(yr)})\n",
        "\n",
        "#report  (vintage) in half-years\n",
        "\n",
        "yrout_dash=[]\n",
        "for i in range(6):\n",
        "    yrout_dash.append({'label':(i+.5),'value':i})\n",
        "    yrout_dash.append({'label':(i+1),'value':i+0.5})\n",
        "\n",
        "## use this if running outside Jupyter\n",
        "# app = dash.Dash() \n",
        "## use this if running in Jupyter\n",
        "external_stylesheets = ['https://codepen.io/chriddyp/pen/bWLwgP.css']\n",
        "app = JupyterDash(__name__, external_stylesheets=external_stylesheets)\n",
        "\n",
        "colors = {\n",
        "    'background': '#91A3B0',\n",
        "    'text': '#004953'\n",
        "}\n",
        "\n",
        "#define app layout\n",
        "#populate children\n",
        "app.layout = html.Div(style={'backgroundColor': colors['background']},children=[\n",
        "\n",
        "\n",
        "#1. dcc = dash core components \n",
        "\n",
        "    dcc.Markdown('''\n",
        "    # WEO model outlier analysis - GDP rate %\n",
        "    ## To get started: select target (forecast) year and vintage (report) year\n",
        "    ## Can edit country list by deselecting countries (can reselect to put them back)\n",
        "    # '''.replace('  ', ''), className='container',\n",
        "    style={'maxWidth': '1200px'}),\n",
        "\n",
        "#2. Error plot - plots prediction from some base year (x) vs actual (y)\n",
        "    html.Div([html.H1(children='Robust regression',style={'textAlign': 'center','color': colors['text'],'fontSize': 22}),\n",
        "        dcc.Graph(id='errplot')],\n",
        "        style={'width':'90%','margin-left':'auto','margin-right':'auto','display':'block'}\n",
        "        ),\n",
        "\n",
        "    html.Div([html.H1(children='Target year:',style={'textAlign': 'left','color': colors['text'],'fontSize': 22}),\n",
        "        dcc.Dropdown(\n",
        "            id=\"yrslide\",\n",
        "            options=yr_dash,\n",
        "            multi=False\n",
        "            )],\n",
        "            style={'width':'49%','display':'inline-block'}\n",
        "        ),\n",
        "\n",
        "\n",
        "    html.Div([html.H1(children='Vintage (years from target):',style={'textAlign': 'left','color': colors['text'],'fontSize': 22}),\n",
        "        dcc.Dropdown(\n",
        "            id=\"yearout\",\n",
        "            options=yrout_dash,\n",
        "            multi=False\n",
        "            )],\n",
        "            style={'width':'49%','display':'inline-block'}\n",
        "        ),\n",
        "\n",
        "    html.Div([html.H1(children='Country search (some may not match plot criteria):',style={'textAlign': 'left','color': colors['text'],'fontSize': 22}),\n",
        "        dcc.Dropdown(\n",
        "            id=\"countryselect\",\n",
        "            options= c_dash,\n",
        "            multi=True,\n",
        "            value=df_country['value'].values#list(set(df['ifscode']))\n",
        "            )],\n",
        "            style={'width':'100%'}#,'display':'inline-block'}\n",
        "        ),\n",
        "\n",
        "\n",
        "\n",
        "\n",
        "])\n",
        "\n",
        "\n",
        "\n",
        "def mapdec2semester(x):\n",
        "    sem_ = ['spring','fall']\n",
        "    ind = int(x%1==0)\n",
        "    return sem_[ind]\n",
        "\n",
        "def getxy(yr_,yro_,c_):\n",
        "    x=[]\n",
        "    y=[]\n",
        "    c2=[]\n",
        "    # print(yro)\n",
        "    # for yro in yro_:\n",
        "    #     for yr in yr_:\n",
        "    yr = yr_\n",
        "    yro = yro_\n",
        "    yro2=mapdec2semester(yro)+str(yr-int(str(yro)[0]))\n",
        "    if yro2 in list(df.columns):\n",
        "        for cid in c_:\n",
        "            x2=df.loc[(df['ifscode']==cid) & (df['year']==yr)]['actual'].values[0]\n",
        "            y2=df.loc[(df['ifscode']==cid) & (df['year']==yr)][yro2].values[0]\n",
        "            # print(y2)\n",
        "            if isfinite(y2) and isfinite(x2):\n",
        "                # print(x2)\n",
        "                x.append(x2)\n",
        "                y.append(y2)\n",
        "                c2.append(list(df.loc[(df['ifscode']==cid)]['country'])[0]+'<br>Target year: '+str(yr)+'<br>Vintage: '+yro2)\n",
        "    x = array(x)\n",
        "    y = array(y)\n",
        "    c2 = array(c2)\n",
        "    ind = argsort(c2)\n",
        "    x = x[ind]\n",
        "    y = y[ind]\n",
        "    c2 = c2[ind]\n",
        "    return x,y,c2\n",
        "#\n",
        "@app.callback(\n",
        "Output(component_id='errplot', component_property='figure'),\n",
        "[\n",
        "Input('yrslide', 'value'),\n",
        "Input('yearout','value'),\n",
        "Input('countryselect','value')\n",
        "]\n",
        ")\n",
        "def update_graph(yr_,yro_,c):\n",
        "    x,y,c=getxy(yr_,yro_,c)\n",
        "    x=reshape(x,[len(x),1])\n",
        "    y=reshape(y,[len(y),1])\n",
        "    if len(x)>0:\n",
        "        xmin=min(x)\n",
        "        xmax=max(x)\n",
        "        model=TSR(random_state=42)\n",
        "        model.fit(x,y[:,0])\n",
        "        x2=reshape(linspace(xmin,xmax,100),[100,1])\n",
        "        y2=model.predict(x2)\n",
        "        dat=[]\n",
        "        trace = go.Scatter(x=x2[:,0],y=x2[:,0],name='objective',line = dict(\n",
        "            width = 2,\n",
        "            dash='dot',\n",
        "            color = 'gray'\n",
        "        ))\n",
        "        dat.append(trace)\n",
        "        text_ = f'robust: y-intercept: {round(model.intercept_,2)}, slope: {round(model.coef_[0],2)}'\n",
        "        trace = go.Scatter(x=x2[:,0],y=y2[:],name='robust regression',text=text_,hoverinfo='text',line = dict(\n",
        "            width = 2,\n",
        "            color = colors['text']\n",
        "        ))\n",
        "        dat.append(trace)\n",
        "        yhat=model.predict(x)\n",
        "        err=(yhat-y[:,0])**2 #assume error with variance 1\n",
        "        sig=(std(y))\n",
        "        n=len(c)\n",
        "        p_=1-chi2.cdf(n/((3*sig)**2)*err,n-2)\n",
        "        indout=where(p_<5e-2/len(c))[0]\n",
        "        indin=where(p_>=5e-2/len(c))[0]\n",
        "        for i in indin:\n",
        "            trace = go.Scatter(x=x[i:i+1,0],y=y[i:i+1,0],name='',text=c[i],hoverinfo='text',marker=dict(color= colors['text'],symbol='square',size=8))\n",
        "            dat.append(trace)\n",
        "        for i in indout:\n",
        "            trace = go.Scatter(x=x[i:i+1,0],y=y[i:i+1,0],name='',text=c[i],hoverinfo='text',marker=dict(color= 'red',symbol='square',size=8))\n",
        "            dat.append(trace)\n",
        "    else:\n",
        "        trace=go.Scatter(x=[0,0],y=[0,0],name='',text='No data',marker=dict(color= colors['background'],symbol='square',size=24))\n",
        "        dat=[trace]\n",
        "\n",
        "    return{'data':\n",
        "    dat,\n",
        "    'layout': go.Layout(\n",
        "    showlegend=False,\n",
        "    title='',\n",
        "        xaxis=dict(\n",
        "        range=[-20,20],\n",
        "        # range=[xmin,xmax],\n",
        "        autorange=True,\n",
        "        showgrid=True,\n",
        "        zeroline=True,\n",
        "        showline=False,\n",
        "        # autotick=True,\n",
        "        showticklabels=True,\n",
        "        title='actual rate',\n",
        "        titlefont=dict(\n",
        "            family='Old Standard TT, serif',\n",
        "            size=22,\n",
        "            color=colors['text']\n",
        "        ),\n",
        "         tickfont=dict(\n",
        "            family='Old Standard TT, serif',\n",
        "            size=18,\n",
        "            color='black'\n",
        "        )\n",
        "        ),\n",
        "        yaxis=dict(\n",
        "        range=[-20,20],\n",
        "        # range=[ymin,ymax],\n",
        "        autorange=True,\n",
        "        showgrid=True,\n",
        "        zeroline=True,\n",
        "        showline=False,\n",
        "        # autotick=True,\n",
        "        showticklabels=True,\n",
        "        title='predicted rate',\n",
        "        titlefont=dict(\n",
        "            family='Old Standard TT, serif',\n",
        "            size=22,\n",
        "            color=colors['text']\n",
        "        ),\n",
        "         tickfont=dict(\n",
        "            family='Old Standard TT, serif',\n",
        "            size=18,\n",
        "            color='black'\n",
        "        )\n",
        "        ),\n",
        "        hovermode='closest'\n",
        "        # plot_bgcolor='rgba(0,0,0,0)',\n",
        "         # paper_bgcolor='black'\n",
        "    )\n",
        "}\n",
        "\n",
        "\n"
      ],
      "execution_count": 3,
      "outputs": []
    },
    {
      "cell_type": "markdown",
      "metadata": {
        "id": "FGxJx8C6GRBc"
      },
      "source": [
        "#Run app"
      ]
    },
    {
      "cell_type": "code",
      "metadata": {
        "colab": {
          "base_uri": "https://localhost:8080/",
          "height": 671
        },
        "id": "1yStmQhq5guE",
        "outputId": "51b0e009-ecf5-459e-804c-8f1a9e1285cf"
      },
      "source": [
        "app.run_server(mode='inline')"
      ],
      "execution_count": 4,
      "outputs": [
        {
          "output_type": "display_data",
          "data": {
            "text/plain": "<IPython.lib.display.IFrame at 0x1029f8880>",
            "text/html": "\n        <iframe\n            width=\"100%\"\n            height=\"650\"\n            src=\"http://127.0.0.1:8050/\"\n            frameborder=\"0\"\n            allowfullscreen\n        ></iframe>\n        "
          },
          "metadata": {}
        }
      ]
    },
    {
      "cell_type": "code",
      "execution_count": null,
      "metadata": {},
      "outputs": [],
      "source": []
    }
  ]
}